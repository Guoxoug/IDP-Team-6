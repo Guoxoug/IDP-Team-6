{
 "cells": [
  {
   "cell_type": "code",
   "execution_count": 1,
   "metadata": {},
   "outputs": [],
   "source": [
    "import numpy as np\n",
    "import matplotlib.image as img\n",
    "import matplotlib.pyplot as plt\n",
    "import cv2"
   ]
  },
  {
   "cell_type": "code",
   "execution_count": null,
   "metadata": {},
   "outputs": [],
   "source": [
    "###cap = cv2.VideoCapture(2)\n",
    "\n",
    "\n",
    "while(1):\n",
    "\n",
    "    # Take each frame\n",
    "    ###_, frame = cap.read()\n",
    "    \n",
    "    frame = cv2.imread(\"sample_arena_table_2.PNG\")\n",
    "\n",
    "    # Convert BGR to HSV\n",
    "    hsv = cv2.cvtColor(frame, cv2.COLOR_BGR2HSV)\n",
    "    \n",
    "    h = 210\n",
    "    s = 0.52\n",
    "    v = 0.87\n",
    "    #blue blocks h = 210°, s = 0.52, v = 0.87\n",
    "    #red line h = 1° s = 0.44  v = 0.93\n",
    "    \n",
    "    # define range of green color in HSV\n",
    "    lower_green = np.array([(h-20)*0.5,255*max(s-0.2,0),255*max(v-0.2,0)])\n",
    "    upper_green = np.array([(h+20)*0.5,255*min(s+0.2,1),255*min(v+0.2,1)])\n",
    "\n",
    "    # Threshold the HSV image to get only blue colours\n",
    "    mask = cv2.inRange(hsv, lower_green, upper_green)\n",
    "\n",
    "    # Bitwise-AND mask and original image\n",
    "    res = cv2.bitwise_and(frame,frame, mask= mask)\n",
    "\n",
    "    cv2.imshow('frame',frame)\n",
    "    cv2.imshow('mask',mask)\n",
    "    cv2.imshow('res',res)\n",
    "    k = cv2.waitKey(5) & 0xFF\n",
    "    if k == 5:\n",
    "        break\n",
    "\n",
    "cv2.destroyAllWindows()"
   ]
  },
  {
   "cell_type": "code",
   "execution_count": 214,
   "metadata": {},
   "outputs": [],
   "source": [
    "cv2.destroyAllWindows()"
   ]
  },
  {
   "cell_type": "code",
   "execution_count": null,
   "metadata": {},
   "outputs": [],
   "source": []
  }
 ],
 "metadata": {
  "kernelspec": {
   "display_name": "Python 3",
   "language": "python",
   "name": "python3"
  },
  "language_info": {
   "codemirror_mode": {
    "name": "ipython",
    "version": 3
   },
   "file_extension": ".py",
   "mimetype": "text/x-python",
   "name": "python",
   "nbconvert_exporter": "python",
   "pygments_lexer": "ipython3",
   "version": "3.7.1"
  }
 },
 "nbformat": 4,
 "nbformat_minor": 2
}
