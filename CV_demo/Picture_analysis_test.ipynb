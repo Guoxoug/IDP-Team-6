{
 "cells": [
  {
   "cell_type": "code",
   "execution_count": 1,
   "metadata": {},
   "outputs": [],
   "source": [
    "import numpy as np\n",
    "import matplotlib.image as img\n",
    "import matplotlib.pyplot as plt\n",
    "from scipy.sparse import find\n",
    "import imutils\n",
    "import cv2\n",
    "import time"
   ]
  },
  {
   "cell_type": "code",
   "execution_count": 239,
   "metadata": {
    "scrolled": true
   },
   "outputs": [
    {
     "name": "stdout",
     "output_type": "stream",
     "text": [
      "7.917660713195801\n"
     ]
    }
   ],
   "source": [
    "start = time.time()\n",
    "i = 0\n",
    "\n",
    "block_locations = []\n",
    "block_areas = []\n",
    "overall_block_locations = []\n",
    "overall_block_areas = []\n",
    "\n",
    "cap = cv2.VideoCapture(2)\n",
    "\n",
    "X = 640; Y = 480 #Dimensions of camera feed\n",
    "x, y = np.meshgrid(np.arange(0,X),np.arange(0,Y))\n",
    "condition = (x < 10) | (x > X-20) | ((x > 586) & (y > 160) & (y < 274)) | ((x > 313) & (x < 322)) #| (y < 10) | (y > Y-10)\n",
    "\n",
    "while(i < 100):\n",
    "    # Take each frame\n",
    "    _, frame = cap.read()\n",
    "    #frame = cv2.imread(\"demo_robot_identifier.PNG\")\n",
    "    \n",
    "    \n",
    "    untouched = frame.copy()\n",
    "    frame[condition] = 0\n",
    "    \n",
    "    # Convert BGR to HSV\n",
    "    hsv = cv2.cvtColor(frame, cv2.COLOR_BGR2HSV)\n",
    "    \n",
    "    h = 107\n",
    "    s = 0.27\n",
    "    v = 0.71\n",
    "    #green line h = 165°  s = 0.79 v = 0.64\n",
    "    #blue blocks h = 210°, s = 0.52, v = 0.87\n",
    "    #red line h = 1° s = 0.44  v = 0.93\n",
    "    #purple circle h = 348°  s = 28 v = 95\n",
    "    #dark orange 31 60 73\n",
    "    #dark purple 344 45 46\n",
    "    #small dark green 178 21 60\n",
    "    #big dark green 107 27 71\n",
    "    \n",
    "    # define range of green color in HSV\n",
    "    lower_green = np.array([(h-10)*0.5,255*max(s-0.10,0),255*max(v-0.10,0)])\n",
    "    upper_green = np.array([(h+10)*0.5,255*min(s+0.10,1),255*min(v+0.10,1)])\n",
    "\n",
    "    #Set edge of image to zero, for side effects of arena\n",
    "    hsv[condition] = 0\n",
    "    \n",
    "    # Threshold the HSV image to get only blue colours\n",
    "    image = cv2.inRange(hsv, lower_green, upper_green)\n",
    "\n",
    "    #image = mask.copy()  or cv2.imread(\"mask.png\")\n",
    "    #gray = cv2.cvtColor(image, cv2.COLOR_BGR2GRAY)\n",
    "    blurred = cv2.GaussianBlur(image, (5, 5), 0)\n",
    "    #thresh = cv2.threshold(blurred, 60, 255, cv2.THRESH_BINARY)[1]\n",
    "    some_image, cnts, hierarchy = cv2.findContours(blurred.copy(), cv2.RETR_EXTERNAL, cv2.CHAIN_APPROX_SIMPLE)  #might have to do blurrey.copy()\n",
    "    #need comma after hierarchy?\n",
    "    \n",
    "    \n",
    "    if cnts:     #check for contours to make sure image isn't disconnected \n",
    "        overall_block_locations.append(block_locations)\n",
    "        overall_block_areas.append(block_areas)\n",
    "        block_areas = []\n",
    "        block_locations = []\n",
    "    \n",
    "    # loop over the contours\n",
    "    for c in cnts:\n",
    "        if cv2.contourArea(c) > 100:\n",
    "        \n",
    "            # compute the center of the contour\n",
    "            M = cv2.moments(c)\n",
    "\n",
    "            cX = int(M[\"m10\"] / M[\"m00\"])\n",
    "            cY = int(M[\"m01\"] / M[\"m00\"])\n",
    "\n",
    "            #Update block locations list\n",
    "            block_locations.append((cX,cY))\n",
    "            block_areas.append(cv2.contourArea(c))\n",
    "\n",
    "            # draw the contour and center of the shape on the image\n",
    "            cv2.drawContours(frame, [c], -1, (0, 255, 0), 1)\n",
    "            cv2.circle(frame, (cX, cY), 3, (255, 0, 255), -1)\n",
    "\n",
    "            # show the image\n",
    "            cv2.imshow(\"Image with locations\", frame)\n",
    "            cv2.waitKey(5)\n",
    "    \n",
    "    # Bitwise-AND mask and original image\n",
    "    #res = cv2.bitwise_and(frame,frame, mask= mask)\n",
    "\n",
    "    cv2.imshow('frame',frame)\n",
    "    cv2.imshow('untouched',untouched)\n",
    "    cv2.imshow('blurred',blurred)\n",
    "    cond_image = frame.copy()\n",
    "    cond_image[condition] = 0\n",
    "    cv2.imshow('cond_image', cond_image)\n",
    "    #cv2.imshow('res',res)\n",
    "    cv2.waitKey(5)\n",
    "\n",
    "    #k = cv2.waitKey(1) & 0xFF\n",
    "    #if k == 5:\n",
    "    #    break\n",
    "    i += 1\n",
    "\n",
    "end = time.time()\n",
    "print(end - start)    \n",
    "\n",
    "cv2.destroyAllWindows()"
   ]
  },
  {
   "cell_type": "code",
   "execution_count": 240,
   "metadata": {},
   "outputs": [
    {
     "name": "stdout",
     "output_type": "stream",
     "text": [
      "[[], [(432, 128)], [(432, 128)], [(432, 128)], [(432, 128)], [(432, 128)], [(432, 128)], [(432, 128)], [(432, 128)], [(433, 128)], [(433, 128)], [(432, 128)], [(432, 128)], [(432, 128)], [(432, 128)], [(432, 128)], [(432, 128)], [(432, 128)], [(432, 128)], [(432, 128)], [(432, 128)], [(431, 128)], [(432, 128)], [(431, 128)], [(432, 128)], [(432, 128)], [(432, 128)], [(433, 128)], [(433, 128)], [(433, 128)], [(432, 128)], [(432, 128)], [(432, 128)], [(432, 128)], [(432, 128)], [(432, 128)], [(432, 128)], [(432, 128)], [(433, 128)], [(433, 128)], [(432, 128)], [(432, 128)], [(432, 127)], [(431, 128)], [(432, 128)], [(432, 128)], [(432, 128)], [(432, 128)], [(432, 128)], [(432, 128)], [(432, 128)], [(432, 128)], [(432, 128)], [(432, 128)], [(433, 128)], [(432, 128)], [(432, 128)], [(432, 128)], [(432, 128)], [(432, 128)], [(432, 128)], [(433, 128)], [(432, 128)], [(432, 128)], [(432, 128)], [(433, 128)], [(432, 128)], [(433, 127)], [(432, 128)], [(432, 127)], [(432, 128)], [(432, 128)], [(432, 128)], [(433, 128)], [(432, 128)], [(432, 128)], [(432, 128)], [(432, 128)], [(431, 128)], [(432, 128)], [(433, 128)], [(432, 128)], [(432, 128)], [(432, 128)], [(432, 128)], [(432, 128)], [(432, 128)], [(432, 128)], [(431, 128)], [(432, 128)], [(432, 127)], [(431, 128)], [(433, 128)], [(433, 128)], [(432, 128)], [(432, 128)], [(432, 128)], [(432, 128)], [(433, 128)]]\n",
      "[[], [457.5], [513.5], [483.0], [468.5], [468.0], [481.5], [484.0], [461.5], [459.0], [479.0], [474.5], [485.5], [457.5], [472.0], [490.0], [438.5], [467.5], [461.5], [475.0], [490.5], [454.5], [450.0], [438.5], [449.5], [484.0], [480.0], [478.5], [472.0], [457.5], [472.5], [463.0], [470.5], [485.0], [441.0], [460.0], [437.5], [485.0], [483.0], [451.0], [469.0], [459.5], [474.5], [485.5], [447.0], [483.0], [465.0], [465.5], [466.5], [441.0], [450.5], [464.5], [472.5], [458.0], [449.0], [460.5], [459.5], [469.5], [463.0], [470.5], [464.5], [465.0], [470.0], [496.0], [477.5], [467.5], [465.5], [495.0], [461.0], [497.5], [474.5], [462.5], [454.5], [465.5], [442.5], [479.0], [444.0], [472.0], [464.5], [440.5], [499.5], [447.0], [467.0], [448.0], [488.5], [445.5], [444.5], [473.5], [443.0], [470.5], [498.0], [451.0], [448.0], [457.5], [465.5], [473.0], [483.0], [480.0], [481.0]]\n"
     ]
    }
   ],
   "source": [
    "cap.release()\n",
    "cv2.destroyAllWindows()\n",
    "print(overall_block_locations)\n",
    "print(overall_block_areas)\n",
    "#area orange 200-230\n",
    "#area purple 300 - 540\n",
    "#area small dark green 140\n",
    "#area large dark green 430"
   ]
  },
  {
   "cell_type": "code",
   "execution_count": 59,
   "metadata": {},
   "outputs": [
    {
     "data": {
      "text/plain": [
       "-1"
      ]
     },
     "execution_count": 59,
     "metadata": {},
     "output_type": "execute_result"
    }
   ],
   "source": [
    "frame = cv2.imread(\"sample_arena_table_2.PNG\")\n",
    "    \n",
    "# Convert BGR to HSV\n",
    "hsv = cv2.cvtColor(frame, cv2.COLOR_BGR2HSV)\n",
    "\n",
    "cv2.imshow(\"frame\", frame)\n",
    "cv2.imshow(\"Image hsv\", hsv)\n",
    "cv2.waitKey(5)"
   ]
  },
  {
   "cell_type": "code",
   "execution_count": 183,
   "metadata": {},
   "outputs": [
    {
     "data": {
      "text/plain": [
       "[array([[[524, 469]],\n",
       " \n",
       "        [[524, 473]],\n",
       " \n",
       "        [[528, 473]],\n",
       " \n",
       "        [[528, 469]]], dtype=int32), array([[[172, 416]],\n",
       " \n",
       "        [[172, 420]],\n",
       " \n",
       "        [[176, 420]],\n",
       " \n",
       "        [[176, 416]]], dtype=int32), array([[[169, 406]],\n",
       " \n",
       "        [[169, 410]],\n",
       " \n",
       "        [[173, 410]],\n",
       " \n",
       "        [[173, 406]]], dtype=int32), array([[[206, 369]],\n",
       " \n",
       "        [[206, 373]],\n",
       " \n",
       "        [[210, 373]],\n",
       " \n",
       "        [[210, 369]]], dtype=int32), array([[[311, 306]],\n",
       " \n",
       "        [[311, 310]],\n",
       " \n",
       "        [[315, 310]],\n",
       " \n",
       "        [[315, 306]]], dtype=int32), array([[[ 98, 107]],\n",
       " \n",
       "        [[ 98, 109]],\n",
       " \n",
       "        [[ 97, 110]],\n",
       " \n",
       "        [[ 96, 110]],\n",
       " \n",
       "        [[ 96, 113]],\n",
       " \n",
       "        [[ 95, 114]],\n",
       " \n",
       "        [[ 92, 114]],\n",
       " \n",
       "        [[ 92, 118]],\n",
       " \n",
       "        [[ 93, 118]],\n",
       " \n",
       "        [[ 94, 119]],\n",
       " \n",
       "        [[ 93, 120]],\n",
       " \n",
       "        [[ 92, 120]],\n",
       " \n",
       "        [[ 92, 124]],\n",
       " \n",
       "        [[ 93, 125]],\n",
       " \n",
       "        [[ 95, 125]],\n",
       " \n",
       "        [[ 96, 126]],\n",
       " \n",
       "        [[ 97, 126]],\n",
       " \n",
       "        [[ 98, 127]],\n",
       " \n",
       "        [[ 98, 129]],\n",
       " \n",
       "        [[101, 129]],\n",
       " \n",
       "        [[102, 130]],\n",
       " \n",
       "        [[109, 130]],\n",
       " \n",
       "        [[113, 126]],\n",
       " \n",
       "        [[113, 121]],\n",
       " \n",
       "        [[114, 120]],\n",
       " \n",
       "        [[114, 114]],\n",
       " \n",
       "        [[113, 113]],\n",
       " \n",
       "        [[113, 112]],\n",
       " \n",
       "        [[112, 111]],\n",
       " \n",
       "        [[111, 111]],\n",
       " \n",
       "        [[110, 110]],\n",
       " \n",
       "        [[110, 109]],\n",
       " \n",
       "        [[109, 108]],\n",
       " \n",
       "        [[106, 108]],\n",
       " \n",
       "        [[105, 107]]], dtype=int32), array([[[174,  44]],\n",
       " \n",
       "        [[174,  48]],\n",
       " \n",
       "        [[175,  49]],\n",
       " \n",
       "        [[175,  52]],\n",
       " \n",
       "        [[179,  52]],\n",
       " \n",
       "        [[179,  47]],\n",
       " \n",
       "        [[178,  46]],\n",
       " \n",
       "        [[178,  44]]], dtype=int32), array([[[182,  40]],\n",
       " \n",
       "        [[182,  44]],\n",
       " \n",
       "        [[187,  44]],\n",
       " \n",
       "        [[187,  40]]], dtype=int32)]"
      ]
     },
     "execution_count": 183,
     "metadata": {},
     "output_type": "execute_result"
    }
   ],
   "source": [
    "cnts"
   ]
  },
  {
   "cell_type": "code",
   "execution_count": 41,
   "metadata": {},
   "outputs": [
    {
     "data": {
      "text/plain": [
       "True"
      ]
     },
     "execution_count": 41,
     "metadata": {},
     "output_type": "execute_result"
    }
   ],
   "source": [
    "cv2.imwrite(\"mask.png\", mask[condition])"
   ]
  },
  {
   "cell_type": "code",
   "execution_count": 68,
   "metadata": {},
   "outputs": [
    {
     "data": {
      "image/png": "[encoded data removed]",
      "text/plain": [
       "<Figure size 432x288 with 1 Axes>"
      ]
     },
     "metadata": {
      "needs_background": "light"
     },
     "output_type": "display_data"
    }
   ],
   "source": [
    "image = cv2.imread(\"mask.png\")   #mask.copy()\n",
    "gray = cv2.cvtColor(image, cv2.COLOR_BGR2GRAY)\n",
    "blurred = cv2.GaussianBlur(gray, (5, 5), 0)\n",
    "thresh = cv2.threshold(blurred, 60, 255, cv2.THRESH_BINARY)[1]\n",
    "plt.imshow(thresh, cmap='hot')\n",
    "plt.show()\n",
    "some_image, cnts, hierarchy,  = cv2.findContours(thresh.copy(), cv2.RETR_EXTERNAL, cv2.CHAIN_APPROX_SIMPLE)"
   ]
  },
  {
   "cell_type": "code",
   "execution_count": 54,
   "metadata": {},
   "outputs": [],
   "source": [
    "block_locations = []\n",
    "\n",
    "# loop over the contours\n",
    "for c in cnts:\n",
    "\n",
    "    # compute the center of the contour\n",
    "    M = cv2.moments(c)\n",
    "\n",
    "    cX = int(M[\"m10\"] / M[\"m00\"])\n",
    "    cY = int(M[\"m01\"] / M[\"m00\"])\n",
    "\n",
    "    #Update block locations list\n",
    "    block_locations.append((cX,cY))\n",
    "    \n",
    "    # draw the contour and center of the shape on the image\n",
    "    cv2.drawContours(image, [c], -1, (0, 255, 0), 1)\n",
    "    cv2.circle(image, (cX, cY), 3, (255, 0, 255), -1)\n",
    "\n",
    "    # show the image\n",
    "    cv2.imshow(\"Image\", image)\n",
    "    cv2.waitKey(5)"
   ]
  },
  {
   "cell_type": "code",
   "execution_count": 8,
   "metadata": {},
   "outputs": [
    {
     "name": "stdout",
     "output_type": "stream",
     "text": [
      "[(256, 184), (535, 182)]\n"
     ]
    }
   ],
   "source": [
    "cv2.destroyAllWindows()\n",
    "print(block_locations)"
   ]
  },
  {
   "cell_type": "code",
   "execution_count": 12,
   "metadata": {},
   "outputs": [],
   "source": [
    "# Colour required to identify features in format (H in degrees, S decimal, V decimal)\n",
    "blue = (210, 0.52, 0.87)\n",
    "red = (1, 0.44, 0.93)\n",
    "green = (165, 0.79, 0.64)\n",
    "purple = (0, 0, 0)  # Change! RGB 234, 12, 208\n",
    "orange = (0, 0, 0)  # RGB 226, 183, 0\n",
    "\n",
    "# Create dictionary of \"colour\": (lower_colour, upper_colour) where each are tuple len=3\n",
    "colour_dict = {\"purple\": (((purple[0] - 10) * 0.5, 255 * max(purple[1] - 0.2, 0), 255 * max(purple[2] - 0.2, 0)), ((purple[0] + 10) * 0.5, 255 * min(purple[1] + 0.2, 1), 255 * min(purple[2] + 0.2, 1))), \"blue\": (((blue[0] - 10) * 0.5, 255 * max(blue[1] - 0.2, 0), 255 * max(blue[2] - 0.2, 0)), ((blue[0] + 10) * 0.5, 255 * min(blue[1] + 0.2, 1), 255 * min(blue[2] + 0.2, 1))), \"green\": (((green[0] - 10) * 0.5, 255 * max(green[1] - 0.2, 0), 255 * max(green[2] - 0.2, 0)), ((green[0] + 10) * 0.5, 255 * min(green[1] + 0.2, 1), 255 * min(green[2] + 0.2, 1))), \"red\": (((red[0] - 10) * 0.5, 255 * max(red[1] - 0.2, 0), 255 * max(red[2] - 0.2, 0)), ((red[0] + 10) * 0.5, 255 * min(red[1] + 0.2, 1), 255 * min(red[2] + 0.2, 1)))}\n"
   ]
  },
  {
   "cell_type": "code",
   "execution_count": 16,
   "metadata": {},
   "outputs": [
    {
     "data": {
      "text/plain": [
       "((100.0, 81.60000000000001, 170.85), (110.0, 183.6, 255))"
      ]
     },
     "execution_count": 16,
     "metadata": {},
     "output_type": "execute_result"
    }
   ],
   "source": [
    "colour_dict[\"blue\"]"
   ]
  },
  {
   "cell_type": "code",
   "execution_count": 21,
   "metadata": {},
   "outputs": [
    {
     "data": {
      "text/plain": [
       "array([100.  ,  81.6 , 170.85])"
      ]
     },
     "execution_count": 21,
     "metadata": {},
     "output_type": "execute_result"
    }
   ],
   "source": [
    "np.array(colour_dict[\"blue\"][0])"
   ]
  },
  {
   "cell_type": "code",
   "execution_count": 22,
   "metadata": {},
   "outputs": [
    {
     "data": {
      "text/plain": [
       "array([100.  ,  81.6 , 170.85])"
      ]
     },
     "execution_count": 22,
     "metadata": {},
     "output_type": "execute_result"
    }
   ],
   "source": [
    "lower_green"
   ]
  },
  {
   "cell_type": "code",
   "execution_count": 23,
   "metadata": {},
   "outputs": [],
   "source": [
    "colour_dict = {\"purple\": (((purple[0] - 10) * 0.5, 255 * max(purple[1] - 0.2, 0), 255 * max(purple[2] - 0.2, 0)), ((purple[0] + 10) * 0.5, 255 * min(purple[1] + 0.2, 1), 255 * min(purple[2] + 0.2, 1))), \"blue\": (((blue[0] - 10) * 0.5, 255 * max(blue[1] - 0.2, 0), 255 * max(blue[2] - 0.2, 0)), ((blue[0] + 10) * 0.5, 255 * min(blue[1] + 0.2, 1), 255 * min(blue[2] + 0.2, 1))), \"green\": (((green[0] - 10) * 0.5, 255 * max(green[1] - 0.2, 0), 255 * max(green[2] - 0.2, 0)), ((green[0] + 10) * 0.5, 255 * min(green[1] + 0.2, 1), 255 * min(green[2] + 0.2, 1))), \"red\": (((red[0] - 10) * 0.5, 255 * max(red[1] - 0.2, 0), 255 * max(red[2] - 0.2, 0)), ((red[0] + 10) * 0.5, 255 * min(red[1] + 0.2, 1), 255 * min(red[2] + 0.2, 1)))}\n"
   ]
  },
  {
   "cell_type": "code",
   "execution_count": 25,
   "metadata": {},
   "outputs": [
    {
     "data": {
      "text/plain": [
       "((-5.0, 0, 0), (5.0, 51.0, 51.0))"
      ]
     },
     "execution_count": 25,
     "metadata": {},
     "output_type": "execute_result"
    }
   ],
   "source": [
    "colour_dict[\"purple\"]"
   ]
  },
  {
   "cell_type": "code",
   "execution_count": 184,
   "metadata": {},
   "outputs": [],
   "source": [
    "good_c = list(filter(lambda x : cv2.contourArea(x) > 300, cnts))"
   ]
  },
  {
   "cell_type": "code",
   "execution_count": 186,
   "metadata": {},
   "outputs": [
    {
     "name": "stdout",
     "output_type": "stream",
     "text": [
      "103 118\n"
     ]
    }
   ],
   "source": [
    "M = cv2.moments(good_c[0])\n",
    "\n",
    "cX = int(M[\"m10\"] / M[\"m00\"])\n",
    "cY = int(M[\"m01\"] / M[\"m00\"])\n",
    "print(cX,cY)"
   ]
  },
  {
   "cell_type": "code",
   "execution_count": null,
   "metadata": {},
   "outputs": [],
   "source": []
  }
 ],
 "metadata": {
  "kernelspec": {
   "display_name": "Python 3",
   "language": "python",
   "name": "python3"
  },
  "language_info": {
   "codemirror_mode": {
    "name": "ipython",
    "version": 3
   },
   "file_extension": ".py",
   "mimetype": "text/x-python",
   "name": "python",
   "nbconvert_exporter": "python",
   "pygments_lexer": "ipython3",
   "version": "3.6.6"
  }
 },
 "nbformat": 4,
 "nbformat_minor": 2
}
