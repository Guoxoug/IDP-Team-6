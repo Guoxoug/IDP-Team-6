{
 "cells": [
  {
   "cell_type": "code",
   "execution_count": 1,
   "metadata": {},
   "outputs": [],
   "source": [
    "import numpy as np\n",
    "import matplotlib.image as img\n",
    "import matplotlib.pyplot as plt\n",
    "from scipy.sparse import find\n",
    "import imutils\n",
    "import cv2\n",
    "import time"
   ]
  },
  {
   "cell_type": "code",
   "execution_count": 50,
   "metadata": {
    "scrolled": true
   },
   "outputs": [
    {
     "ename": "KeyboardInterrupt",
     "evalue": "",
     "output_type": "error",
     "traceback": [
      "\u001b[1;31m---------------------------------------------------------------------------\u001b[0m",
      "\u001b[1;31mKeyboardInterrupt\u001b[0m                         Traceback (most recent call last)",
      "\u001b[1;32m<ipython-input-50-3a529ee9e9f1>\u001b[0m in \u001b[0;36m<module>\u001b[1;34m()\u001b[0m\n\u001b[0;32m     64\u001b[0m         \u001b[1;31m# show the image\u001b[0m\u001b[1;33m\u001b[0m\u001b[1;33m\u001b[0m\u001b[0m\n\u001b[0;32m     65\u001b[0m         \u001b[0mcv2\u001b[0m\u001b[1;33m.\u001b[0m\u001b[0mimshow\u001b[0m\u001b[1;33m(\u001b[0m\u001b[1;34m\"Image with locations\"\u001b[0m\u001b[1;33m,\u001b[0m \u001b[0mhsv\u001b[0m\u001b[1;33m)\u001b[0m\u001b[1;33m\u001b[0m\u001b[0m\n\u001b[1;32m---> 66\u001b[1;33m         \u001b[0mcv2\u001b[0m\u001b[1;33m.\u001b[0m\u001b[0mwaitKey\u001b[0m\u001b[1;33m(\u001b[0m\u001b[1;36m5\u001b[0m\u001b[1;33m)\u001b[0m\u001b[1;33m\u001b[0m\u001b[0m\n\u001b[0m\u001b[0;32m     67\u001b[0m \u001b[1;33m\u001b[0m\u001b[0m\n\u001b[0;32m     68\u001b[0m     \u001b[1;31m# Bitwise-AND mask and original image\u001b[0m\u001b[1;33m\u001b[0m\u001b[1;33m\u001b[0m\u001b[0m\n",
      "\u001b[1;31mKeyboardInterrupt\u001b[0m: "
     ]
    }
   ],
   "source": [
    "start = time.time()\n",
    "i = 0\n",
    "\n",
    "block_locations = []\n",
    "\n",
    "#cap = cv2.VideoCapture(2)\n",
    "\n",
    "X = 640; Y = 480 #Dimensions of camera feed\n",
    "x, y = np.meshgrid(np.arange(0,X),np.arange(0,Y))\n",
    "condition = (x < 10) | (x > X-10) | (y < 10) | (y > Y-10)\n",
    "\n",
    "while(True):\n",
    "    # Take each frame\n",
    "    #_, frame = cap.read()\n",
    "    frame = cv2.imread(\"demo_robot_identifier.PNG\")\n",
    "    \n",
    "    # Convert BGR to HSV\n",
    "    hsv = cv2.cvtColor(frame, cv2.COLOR_BGR2HSV)\n",
    "    \n",
    "    h = 348\n",
    "    s = 0.28\n",
    "    v = 0.95\n",
    "    #green line h = 165°  s = 0.79 v = 0.64\n",
    "    #blue blocks h = 210°, s = 0.52, v = 0.87\n",
    "    #red line h = 1° s = 0.44  v = 0.93\n",
    "    #purple circle h = 348°  s = 28 v = 95\n",
    "    \n",
    "    # define range of green color in HSV\n",
    "    lower_green = np.array([(h-10)*0.5,255*max(s-0.2,0),255*max(v-0.2,0)])\n",
    "    upper_green = np.array([(h+10)*0.5,255*min(s+0.2,1),255*min(v+0.2,1)])\n",
    "\n",
    "    # Threshold the HSV image to get only blue colours\n",
    "    image = cv2.inRange(hsv, lower_green, upper_green)\n",
    "    #mask[condition] = 0  #Set edge of image to zero, generally not important\n",
    "\n",
    "    #image = mask.copy()  or cv2.imread(\"mask.png\")\n",
    "    #gray = cv2.cvtColor(image, cv2.COLOR_BGR2GRAY)\n",
    "    blurred = cv2.GaussianBlur(image, (5, 5), 0)\n",
    "    #thresh = cv2.threshold(blurred, 60, 255, cv2.THRESH_BINARY)[1]\n",
    "    some_image, cnts, hierarchy = cv2.findContours(blurred.copy(), cv2.RETR_EXTERNAL, cv2.CHAIN_APPROX_SIMPLE)  #might have to do blurrey.copy()\n",
    "    #need comma after hierarchy?\n",
    "    \n",
    "    if cnts:     #check for contours to make sure image isn't disconnected \n",
    "        block_locations = []\n",
    "        block_areas = []\n",
    "    \n",
    "    # loop over the contours\n",
    "    for c in cnts:\n",
    "\n",
    "        # compute the center of the contour\n",
    "        M = cv2.moments(c)\n",
    "\n",
    "        cX = int(M[\"m10\"] / M[\"m00\"])\n",
    "        cY = int(M[\"m01\"] / M[\"m00\"])\n",
    "\n",
    "        #Update block locations list\n",
    "        block_locations.append((cX,cY))\n",
    "        block_areas.append(cv2.contourArea(c))\n",
    "\n",
    "        # draw the contour and center of the shape on the image\n",
    "        cv2.drawContours(hsv, [c], -1, (0, 255, 0), 1)\n",
    "        cv2.circle(hsv, (cX, cY), 3, (255, 0, 255), -1)\n",
    "\n",
    "        # show the image\n",
    "        cv2.imshow(\"Image with locations\", hsv)\n",
    "        cv2.waitKey(5)\n",
    "    \n",
    "    # Bitwise-AND mask and original image\n",
    "    #res = cv2.bitwise_and(frame,frame, mask= mask)\n",
    "\n",
    "    cv2.imshow('frame',frame)\n",
    "    cv2.imshow('mask',blurred)\n",
    "    #cv2.imshow('res',res)\n",
    "    cv2.waitKey(5)\n",
    "\n",
    "    #k = cv2.waitKey(1) & 0xFF\n",
    "    #if k == 5:\n",
    "    #    break\n",
    "    i += 1\n",
    "\n",
    "end = time.time()\n",
    "print(end - start)    \n",
    "\n",
    "cv2.destroyAllWindows()"
   ]
  },
  {
   "cell_type": "code",
   "execution_count": 60,
   "metadata": {},
   "outputs": [
    {
     "name": "stdout",
     "output_type": "stream",
     "text": [
      "19\n"
     ]
    }
   ],
   "source": [
    "cap.release()\n",
    "cv2.destroyAllWindows()\n",
    "print(len(block_locations))"
   ]
  },
  {
   "cell_type": "code",
   "execution_count": 59,
   "metadata": {},
   "outputs": [
    {
     "data": {
      "text/plain": [
       "-1"
      ]
     },
     "execution_count": 59,
     "metadata": {},
     "output_type": "execute_result"
    }
   ],
   "source": [
    "frame = cv2.imread(\"sample_arena_table_2.PNG\")\n",
    "    \n",
    "# Convert BGR to HSV\n",
    "hsv = cv2.cvtColor(frame, cv2.COLOR_BGR2HSV)\n",
    "\n",
    "cv2.imshow(\"frame\", frame)\n",
    "cv2.imshow(\"Image hsv\", hsv)\n",
    "cv2.waitKey(5)"
   ]
  },
  {
   "cell_type": "code",
   "execution_count": 48,
   "metadata": {},
   "outputs": [
    {
     "data": {
      "text/plain": [
       "-1"
      ]
     },
     "execution_count": 48,
     "metadata": {},
     "output_type": "execute_result"
    }
   ],
   "source": []
  },
  {
   "cell_type": "code",
   "execution_count": 41,
   "metadata": {},
   "outputs": [
    {
     "data": {
      "text/plain": [
       "True"
      ]
     },
     "execution_count": 41,
     "metadata": {},
     "output_type": "execute_result"
    }
   ],
   "source": [
    "cv2.imwrite(\"mask.png\", mask[condition])"
   ]
  },
  {
   "cell_type": "code",
   "execution_count": 68,
   "metadata": {},
   "outputs": [
    {
     "data": {
      "image/png": "[encoded data removed]",
      "text/plain": [
       "<Figure size 432x288 with 1 Axes>"
      ]
     },
     "metadata": {
      "needs_background": "light"
     },
     "output_type": "display_data"
    }
   ],
   "source": [
    "image = cv2.imread(\"mask.png\")   #mask.copy()\n",
    "gray = cv2.cvtColor(image, cv2.COLOR_BGR2GRAY)\n",
    "blurred = cv2.GaussianBlur(gray, (5, 5), 0)\n",
    "thresh = cv2.threshold(blurred, 60, 255, cv2.THRESH_BINARY)[1]\n",
    "plt.imshow(thresh, cmap='hot')\n",
    "plt.show()\n",
    "some_image, cnts, hierarchy,  = cv2.findContours(thresh.copy(), cv2.RETR_EXTERNAL, cv2.CHAIN_APPROX_SIMPLE)"
   ]
  },
  {
   "cell_type": "code",
   "execution_count": 54,
   "metadata": {},
   "outputs": [],
   "source": [
    "block_locations = []\n",
    "\n",
    "# loop over the contours\n",
    "for c in cnts:\n",
    "\n",
    "    # compute the center of the contour\n",
    "    M = cv2.moments(c)\n",
    "\n",
    "    cX = int(M[\"m10\"] / M[\"m00\"])\n",
    "    cY = int(M[\"m01\"] / M[\"m00\"])\n",
    "\n",
    "    #Update block locations list\n",
    "    block_locations.append((cX,cY))\n",
    "    \n",
    "    # draw the contour and center of the shape on the image\n",
    "    cv2.drawContours(image, [c], -1, (0, 255, 0), 1)\n",
    "    cv2.circle(image, (cX, cY), 3, (255, 0, 255), -1)\n",
    "\n",
    "    # show the image\n",
    "    cv2.imshow(\"Image\", image)\n",
    "    cv2.waitKey(5)"
   ]
  },
  {
   "cell_type": "code",
   "execution_count": 8,
   "metadata": {},
   "outputs": [
    {
     "name": "stdout",
     "output_type": "stream",
     "text": [
      "[(256, 184), (535, 182)]\n"
     ]
    }
   ],
   "source": [
    "cv2.destroyAllWindows()\n",
    "print(block_locations)"
   ]
  },
  {
   "cell_type": "code",
   "execution_count": 12,
   "metadata": {},
   "outputs": [],
   "source": [
    "# Colour required to identify features in format (H in degrees, S decimal, V decimal)\n",
    "blue = (210, 0.52, 0.87)\n",
    "red = (1, 0.44, 0.93)\n",
    "green = (165, 0.79, 0.64)\n",
    "purple = (0, 0, 0)  # Change! RGB 234, 12, 208\n",
    "orange = (0, 0, 0)  # RGB 226, 183, 0\n",
    "\n",
    "# Create dictionary of \"colour\": (lower_colour, upper_colour) where each are tuple len=3\n",
    "colour_dict = {\"purple\": (((purple[0] - 10) * 0.5, 255 * max(purple[1] - 0.2, 0), 255 * max(purple[2] - 0.2, 0)), ((purple[0] + 10) * 0.5, 255 * min(purple[1] + 0.2, 1), 255 * min(purple[2] + 0.2, 1))), \"blue\": (((blue[0] - 10) * 0.5, 255 * max(blue[1] - 0.2, 0), 255 * max(blue[2] - 0.2, 0)), ((blue[0] + 10) * 0.5, 255 * min(blue[1] + 0.2, 1), 255 * min(blue[2] + 0.2, 1))), \"green\": (((green[0] - 10) * 0.5, 255 * max(green[1] - 0.2, 0), 255 * max(green[2] - 0.2, 0)), ((green[0] + 10) * 0.5, 255 * min(green[1] + 0.2, 1), 255 * min(green[2] + 0.2, 1))), \"red\": (((red[0] - 10) * 0.5, 255 * max(red[1] - 0.2, 0), 255 * max(red[2] - 0.2, 0)), ((red[0] + 10) * 0.5, 255 * min(red[1] + 0.2, 1), 255 * min(red[2] + 0.2, 1)))}\n"
   ]
  },
  {
   "cell_type": "code",
   "execution_count": 16,
   "metadata": {},
   "outputs": [
    {
     "data": {
      "text/plain": [
       "((100.0, 81.60000000000001, 170.85), (110.0, 183.6, 255))"
      ]
     },
     "execution_count": 16,
     "metadata": {},
     "output_type": "execute_result"
    }
   ],
   "source": [
    "colour_dict[\"blue\"]"
   ]
  },
  {
   "cell_type": "code",
   "execution_count": 21,
   "metadata": {},
   "outputs": [
    {
     "data": {
      "text/plain": [
       "array([100.  ,  81.6 , 170.85])"
      ]
     },
     "execution_count": 21,
     "metadata": {},
     "output_type": "execute_result"
    }
   ],
   "source": [
    "np.array(colour_dict[\"blue\"][0])"
   ]
  },
  {
   "cell_type": "code",
   "execution_count": 22,
   "metadata": {},
   "outputs": [
    {
     "data": {
      "text/plain": [
       "array([100.  ,  81.6 , 170.85])"
      ]
     },
     "execution_count": 22,
     "metadata": {},
     "output_type": "execute_result"
    }
   ],
   "source": [
    "lower_green"
   ]
  },
  {
   "cell_type": "code",
   "execution_count": 23,
   "metadata": {},
   "outputs": [],
   "source": [
    "colour_dict = {\"purple\": (((purple[0] - 10) * 0.5, 255 * max(purple[1] - 0.2, 0), 255 * max(purple[2] - 0.2, 0)), ((purple[0] + 10) * 0.5, 255 * min(purple[1] + 0.2, 1), 255 * min(purple[2] + 0.2, 1))), \"blue\": (((blue[0] - 10) * 0.5, 255 * max(blue[1] - 0.2, 0), 255 * max(blue[2] - 0.2, 0)), ((blue[0] + 10) * 0.5, 255 * min(blue[1] + 0.2, 1), 255 * min(blue[2] + 0.2, 1))), \"green\": (((green[0] - 10) * 0.5, 255 * max(green[1] - 0.2, 0), 255 * max(green[2] - 0.2, 0)), ((green[0] + 10) * 0.5, 255 * min(green[1] + 0.2, 1), 255 * min(green[2] + 0.2, 1))), \"red\": (((red[0] - 10) * 0.5, 255 * max(red[1] - 0.2, 0), 255 * max(red[2] - 0.2, 0)), ((red[0] + 10) * 0.5, 255 * min(red[1] + 0.2, 1), 255 * min(red[2] + 0.2, 1)))}\n"
   ]
  },
  {
   "cell_type": "code",
   "execution_count": 25,
   "metadata": {},
   "outputs": [
    {
     "data": {
      "text/plain": [
       "((-5.0, 0, 0), (5.0, 51.0, 51.0))"
      ]
     },
     "execution_count": 25,
     "metadata": {},
     "output_type": "execute_result"
    }
   ],
   "source": [
    "colour_dict[\"purple\"]"
   ]
  },
  {
   "cell_type": "code",
   "execution_count": null,
   "metadata": {},
   "outputs": [],
   "source": []
  }
 ],
 "metadata": {
  "kernelspec": {
   "display_name": "Python 3",
   "language": "python",
   "name": "python3"
  },
  "language_info": {
   "codemirror_mode": {
    "name": "ipython",
    "version": 3
   },
   "file_extension": ".py",
   "mimetype": "text/x-python",
   "name": "python",
   "nbconvert_exporter": "python",
   "pygments_lexer": "ipython3",
   "version": "3.6.6"
  }
 },
 "nbformat": 4,
 "nbformat_minor": 2
}
